{
 "cells": [
  {
   "cell_type": "code",
   "execution_count": 18,
   "metadata": {},
   "outputs": [
    {
     "name": "stdout",
     "output_type": "stream",
     "text": [
      "Enter the nme of the file: sample_text_file.txt4\n",
      "Number of lines in the file:  4821\n",
      "Number of words in the file:  38128\n",
      "Number of characters in the file:  137184\n",
      "\n"
     ]
    }
   ],
   "source": [
    "#This program counts charaacters in a sample file.\n",
    "\n",
    "f = open(input(\"Enter the nme of the file: \"),encoding='utf8')\n",
    "lines = 0\n",
    "characters = 0\n",
    "for line in f:\n",
    "    wordslist = line.split()\n",
    "    lines = lines + 1\n",
    "    words = words + len(wordslist)\n",
    "    characters = characters + len(line)\n",
    "print(\"Number of lines in the file: \",lines)\n",
    "print(\"Number of words in the file: \",words)\n",
    "print(\"Number of characters in the file: \",characters)\n",
    "print(f.read())"
   ]
  }
 ],
 "metadata": {
  "kernelspec": {
   "display_name": "Python 3",
   "language": "python",
   "name": "python3"
  }
 },
 "nbformat": 4,
 "nbformat_minor": 2
}
