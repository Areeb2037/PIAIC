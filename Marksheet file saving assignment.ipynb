{
 "cells": [
  {
   "cell_type": "code",
   "execution_count": 5,
   "metadata": {},
   "outputs": [
    {
     "name": "stdout",
     "output_type": "stream",
     "text": [
      "Enter name: Areeb\n",
      "Enter father name: Sarfaraz\n",
      "Enter your age: 19\n",
      "Board name: BSEK\n",
      "Year: 2019\n",
      "Enter marks of mathematics: 80\n",
      "Enter marks of english: 79\n",
      "Enter marks of physics: 76\n",
      "Enter marks of urdu: 77\n",
      "Enter marks of islamiyat: 88\n",
      "80.0\n"
     ]
    }
   ],
   "source": [
    "import csv\n",
    "# This program prints marksheet of a student\n",
    "# Basic information\n",
    "name = input(\"Enter name: \")\n",
    "father_name = input(\"Enter father name: \")\n",
    "age = input(\"Enter your age: \")\n",
    "total_subjects = 5\n",
    "\n",
    "# Further information\n",
    "board = input(\"Board name: \")\n",
    "year = input(\"Year: \")\n",
    "\n",
    "# Collecting information about subjects and marks\n",
    "mathematics = int(input(\"Enter marks of mathematics: \"))\n",
    "english = int(input(\"Enter marks of english: \"))\n",
    "physics = int(input(\"Enter marks of physics: \"))\n",
    "urdu = int(input(\"Enter marks of urdu: \"))\n",
    "islamiyat = int(input(\"Enter marks of islamiyat: \"))\n",
    "\n",
    "# Calculation of percentage\n",
    "total_marks = mathematics+english+physics+urdu+islamiyat \n",
    "percentage = (total_marks/500)*100\n",
    "print(percentage)\n",
    "\n",
    "# Evaluating the grades\n",
    "if(percentage >= 90 and percentage <= 100):\n",
    "    grade = 'A+'\n",
    "elif(percentage >= 80 and percentage <= 90):\n",
    "    grade = 'A+'\n",
    "elif(percentage >= 70 and percentage <= 80):\n",
    "    grade = 'A'\n",
    "elif(percentage >= 60 and percentage <= 70):\n",
    "    grade = 'B'  \n",
    "elif(percentage >= 50 and percentage <= 60):\n",
    "    grade = 'C'\n",
    "elif(percentage >= 40 and percentage <= 50):\n",
    "    grade = 'D'\n",
    "else:\n",
    "    grade = 'failed'\n",
    "\n",
    "\n",
    "data = [name,father_name,age,total_subjects,board,year,mathematics,english,physics,urdu,islamiyat,total_marks,percentage,grade]\n",
    "\n",
    "with open(\"MarkSheet.csv\",\"w\" ,newline=\"\") as f:\n",
    "        \n",
    "        file_handler = csv.writer(f, delimiter=',')\n",
    "\n",
    "        file_handler.writerow([\"Name\",\"Father name\",\"Age\",\"Total subjects\",\"Board\",\"Year\",\"Maths\",\"English\",\"Physics\",\"Urdu\",\"Islamiyat\",\"Total marks\",\"Percentage\",\"Grade\"])    \n",
    "\n",
    "        file_handler.writerow(data)\n"
   ]
  },
  {
   "cell_type": "code",
   "execution_count": null,
   "metadata": {},
   "outputs": [],
   "source": []
  }
 ],
 "metadata": {
  "kernelspec": {
   "display_name": "Python 3",
   "language": "python",
   "name": "python3"
  },
  "language_info": {
   "codemirror_mode": {
    "name": "ipython",
    "version": 3
   },
   "file_extension": ".py",
   "mimetype": "text/x-python",
   "name": "python",
   "nbconvert_exporter": "python",
   "pygments_lexer": "ipython3",
   "version": "3.7.3"
  }
 },
 "nbformat": 4,
 "nbformat_minor": 2
}
