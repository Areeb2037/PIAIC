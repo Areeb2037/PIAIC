{
 "cells": [
  {
   "cell_type": "code",
   "execution_count": 17,
   "metadata": {},
   "outputs": [
    {
     "name": "stdout",
     "output_type": "stream",
     "text": [
      "Number of tags: 20\n",
      "\n",
      "Tags used in this HTML sample file are: \n",
      "<html>\n",
      "<head>\n",
      "<title>\n",
      "</title>\n",
      "<style>\n",
      "</style>\n",
      "</head>\n",
      "<body>\n",
      "<h1>\n",
      "</h1>\n",
      "<p>\n",
      "</p>\n",
      "<p>\n",
      "</p>\n",
      "<p>\n",
      "<a>\n",
      "</a>\n",
      "</p>\n",
      "</body>\n",
      "</html>\n"
     ]
    }
   ],
   "source": [
    "#This program names and counts HTML Tags.\n",
    "\n",
    "\n",
    "from html.parser import HTMLParser\n",
    "\n",
    "\n",
    "class MyHTMLPARSER(HTMLParser):\n",
    "    def handle_starttag(self, tag, attrs):\n",
    "        print(\"<\" + tag + \">\")\n",
    "\n",
    "    def handle_endtag(self, tag):\n",
    "        print(\"</\" + tag + \">\")\n",
    "\n",
    "\n",
    "class counter:\n",
    "    def __init__(self):\n",
    "        self.tags = 0\n",
    "    \n",
    "    def count_tags(self):\n",
    "        file = open(\"example_html_file.html\") \n",
    "        contents = file.read()\n",
    "        for tag in contents:\n",
    "            if(tag == \">\"):\n",
    "                self.tags += 1\n",
    "        return  \"Number of tags: \" + str(self.tags)\n",
    "        \n",
    "number_of_tags = counter()\n",
    "print(number_of_tags.count_tags())\n",
    "     \n",
    "print(\"\\nTags used in this HTML sample file are: \")\n",
    "file = open(\"example_html_file.html\")   \n",
    "parser = MyHTMLPARSER()\n",
    "parser.feed(file.read())\n",
    "\n"
   ]
  },
  {
   "cell_type": "code",
   "execution_count": null,
   "metadata": {},
   "outputs": [],
   "source": []
  }
 ],
 "metadata": {
  "kernelspec": {
   "display_name": "Python 3",
   "language": "python",
   "name": "python3"
  },
  "language_info": {
   "codemirror_mode": {
    "name": "ipython",
    "version": 3
   },
   "file_extension": ".py",
   "mimetype": "text/x-python",
   "name": "python",
   "nbconvert_exporter": "python",
   "pygments_lexer": "ipython3",
   "version": "3.7.3"
  }
 },
 "nbformat": 4,
 "nbformat_minor": 2
}
