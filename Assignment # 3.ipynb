{
 "cells": [
  {
   "cell_type": "markdown",
   "metadata": {},
   "source": [
    "# This program counts charaacters in a sample file.\n",
    "\n",
    "f = open(input(\"Enter the nme of the file: \"),encoding='utf8')\n",
    "lines = 0\n",
    "characters = 0\n",
    "for line in f:\n",
    "    wordslist = line.split()\n",
    "    lines = lines + 1\n",
    "    words = words + len(wordslist)\n",
    "    characters = characters + len(line)\n",
    "print(\"Number of lines in the file: \",lines)\n",
    "print(\"Number of words in the file: \",words)\n",
    "print(\"Number of characters in the file: \",characters)\n",
    "print(f.read())"
   ]
  },
  {
   "cell_type": "markdown",
   "metadata": {},
   "source": [
    "# This program names and counts HTML Tags.\n",
    "\n",
    "\n",
    "from html.parser import HTMLParser\n",
    "\n",
    "\n",
    "class MyHTMLPARSER(HTMLParser):\n",
    "    def handle_starttag(self, tag, attrs):\n",
    "        print(\"<\" + tag + \">\")\n",
    "\n",
    "    def handle_endtag(self, tag):\n",
    "        print(\"</\" + tag + \">\")\n",
    "\n",
    "\n",
    "class counter:\n",
    "    def __init__(self):\n",
    "        self.tags = 0\n",
    "    \n",
    "    def count_tags(self):\n",
    "        file = open(\"example_html_file.html\") \n",
    "        contents = file.read()\n",
    "        for tag in contents:\n",
    "            if(tag == \">\"):\n",
    "                self.tags += 1\n",
    "        return  \"Number of tags: \" + str(self.tags)\n",
    "        \n",
    "number_of_tags = counter()\n",
    "print(number_of_tags.count_tags())\n",
    "     \n",
    "print(\"\\nTags used in this HTML sample file are: \")\n",
    "file = open(\"example_html_file.html\")   \n",
    "parser = MyHTMLPARSER()\n",
    "parser.feed(file.read())\n",
    "\n"
   ]
  }
 ],
 "metadata": {
  "kernelspec": {
   "display_name": "Python 3",
   "language": "python",
   "name": "python3"
  }
 },
 "nbformat": 4,
 "nbformat_minor": 2
}
