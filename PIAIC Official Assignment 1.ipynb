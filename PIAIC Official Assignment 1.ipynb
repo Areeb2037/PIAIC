{
 "cells": [
  {
   "cell_type": "code",
   "execution_count": 6,
   "metadata": {},
   "outputs": [
    {
     "name": "stdout",
     "output_type": "stream",
     "text": [
      "Enter radius of the circle: 2\n",
      "12.568\n"
     ]
    }
   ],
   "source": [
    "#This program prints area of a circle.\n",
    "\n",
    "PI = 3.142\n",
    "r = float(input(\"Enter radius of the circle: \"))\n",
    "area_of_circle = PI*r*r\n",
    "print(area_of_circle)"
   ]
  },
  {
   "cell_type": "code",
   "execution_count": 10,
   "metadata": {},
   "outputs": [
    {
     "name": "stdout",
     "output_type": "stream",
     "text": [
      "Enter a number: -100\n",
      "Negative number\n"
     ]
    }
   ],
   "source": [
    "#This program checks whether number is positive or negative or zero.\n",
    "\n",
    "num = float(input(\"Enter a number: \"))\n",
    "if num > 0:\n",
    "   print(\"Positive number\")\n",
    "elif num == 0:\n",
    "   print(\"Zero\")\n",
    "else:\n",
    "   print(\"Negative number\")"
   ]
  },
  {
   "cell_type": "code",
   "execution_count": 2,
   "metadata": {},
   "outputs": [
    {
     "name": "stdout",
     "output_type": "stream",
     "text": [
      "Enter a number 5\n",
      "Enter a number 3\n",
      "This is not completely divisible\n"
     ]
    }
   ],
   "source": [
    "#This program tells the number is divisible or not.\n",
    "\n",
    "numerator = int(input(\"Enter a number \"))\n",
    "denominator = int(input(\"Enter a number \"))\n",
    "division = numerator/denominator\n",
    "\n",
    "if numerator % denominator == 0:\n",
    "    print(\"This is completely divisible\")\n",
    "else:\n",
    "    print(\"This is not completely divisible\")\n",
    "\n"
   ]
  },
  {
   "cell_type": "code",
   "execution_count": 3,
   "metadata": {},
   "outputs": [
    {
     "name": "stdout",
     "output_type": "stream",
     "text": [
      "Enter a number: 3.3\n",
      "3.3 is Odd\n"
     ]
    }
   ],
   "source": [
    "#This progrm tells whether the number is even or odd.\n",
    "\n",
    "num = float(input(\"Enter a number: \"))\n",
    "if (num % 2) == 0:\n",
    "   print(\"{0} is Even\".format(num))\n",
    "else:\n",
    "   print(\"{0} is Odd\".format(num))\n",
    "\n",
    "\n"
   ]
  },
  {
   "cell_type": "code",
   "execution_count": 4,
   "metadata": {},
   "outputs": [
    {
     "name": "stdout",
     "output_type": "stream",
     "text": [
      "Enter radius of the sphere: 3\n",
      "113.11199999999998\n"
     ]
    }
   ],
   "source": [
    "#This program calcultes volume of the sphere.\n",
    "\n",
    "PI = 3.142\n",
    "r = float(input(\"Enter radius of the sphere: \"))\n",
    "volume_of_sphere = 4/3*PI*r*r*r\n",
    "print(volume_of_sphere)"
   ]
  },
  {
   "cell_type": "code",
   "execution_count": 1,
   "metadata": {},
   "outputs": [
    {
     "name": "stdout",
     "output_type": "stream",
     "text": [
      "Enter any character: A\n",
      "A is a vowel.\n"
     ]
    }
   ],
   "source": [
    "#This program tells the character is a vowel or consonant.\n",
    "\n",
    "ch = input(\"Enter any character: \");\n",
    "if ch == '0':\n",
    "    exit();\n",
    "else:\n",
    "    if(ch=='a' or ch=='A' or ch=='e' or ch=='E' or ch=='i' or ch=='I'\n",
    "       or ch=='o' or ch=='O' or ch=='u' or ch=='U'):\n",
    "        print(ch, \"is a vowel.\");\n",
    "    else:\n",
    "        print(ch, \"is not a vowel.\");"
   ]
  },
  {
   "cell_type": "code",
   "execution_count": 15,
   "metadata": {},
   "outputs": [
    {
     "name": "stdout",
     "output_type": "stream",
     "text": [
      "enter string: areeb\n",
      "enter number of copies:5\n",
      "areebareebareebareebareeb\n"
     ]
    }
   ],
   "source": [
    "#This progrm multiplies a string \"n\" times \n",
    "\n",
    "def str_cpy(s,n):\n",
    "  if len(s) < n:\n",
    "    return s*n\n",
    "  \n",
    "  return s[:n]*n\n",
    "\n",
    "\n",
    "s = input('enter string:')\n",
    "n = int(input('enter number of copies:'))\n",
    "\n",
    "string_cp = str_cpy(s,n)\n",
    "print(string_cp)\n"
   ]
  },
  {
   "cell_type": "code",
   "execution_count": 2,
   "metadata": {},
   "outputs": [
    {
     "name": "stdout",
     "output_type": "stream",
     "text": [
      "Enter value of base: 3\n",
      "Enter value of height: 6\n",
      "9.0\n"
     ]
    }
   ],
   "source": [
    "#This program calculates area of triangle by accepting height and base.\n",
    "\n",
    "base = int(input(\"Enter value of base: \"))\n",
    "height = int(input(\"Enter value of height: \"))\n",
    "area = int(base*height)/2\n",
    "print(area)"
   ]
  },
  {
   "cell_type": "code",
   "execution_count": 17,
   "metadata": {},
   "outputs": [
    {
     "name": "stdout",
     "output_type": "stream",
     "text": [
      "Enter present value: 100\n",
      "Enter interest rate: 10\n",
      "Enter number of years: 2\n",
      "Your future value is 121.00000000000001\n"
     ]
    }
   ],
   "source": [
    "#This program tells future value of a given present value.\n",
    "\n",
    "amt = float(input(\"Enter present value: \"))\n",
    "int = float(input(\"Enter interest rate: \"))\n",
    "years = float(input(\"Enter number of years: \"))\n",
    "\n",
    "future_value  = amt*((1+(0.01*int)) ** years)\n",
    "print(\"Your future value is\", future_value)\n",
    "\n"
   ]
  },
  {
   "cell_type": "code",
   "execution_count": 1,
   "metadata": {},
   "outputs": [
    {
     "name": "stdout",
     "output_type": "stream",
     "text": [
      "Enter value of first x ordinate: 2\n",
      "Enter value of first y ordinate: 4\n",
      "Enter value of second x ordinate: 4\n",
      "Enter value of second y ordinate : 4\n",
      "Distance between points is 2.0\n"
     ]
    }
   ],
   "source": [
    "#This progrm claculates distance between two points.\n",
    "\n",
    "\n",
    "import math\n",
    "p1 = [float(input(\"Enter value of first x ordinate: \")), float(input(\"Enter value of first y ordinate: \"))]\n",
    "p2 = [float(input(\"Enter value of second x ordinate: \")), float(input(\"Enter value of second y ordinate : \"))]\n",
    "distance = math.sqrt( ((p1[0]-p2[0])**2)+((p1[1]-p2[1])**2) )        \n",
    "\n",
    "print(\"Distance between points is\",distance)\n",
    "\n",
    "\n"
   ]
  },
  {
   "cell_type": "code",
   "execution_count": 4,
   "metadata": {},
   "outputs": [
    {
     "name": "stdout",
     "output_type": "stream",
     "text": [
      "Enter height in feet: 2\n",
      "There are 60.96 centimetres in 2 feet\n"
     ]
    }
   ],
   "source": [
    "#This program converts height in feet to centimetres.\n",
    "\n",
    "value = int(input(\"Enter height in feet: \"))\n",
    "result = value*30.48\n",
    "print(\"There are\" ,result, \"centimetres in\" ,value, \"feet\")"
   ]
  },
  {
   "cell_type": "code",
   "execution_count": 2,
   "metadata": {},
   "outputs": [
    {
     "name": "stdout",
     "output_type": "stream",
     "text": [
      "Enter value in cm: 180\n",
      "Enter value in kg: 75\n",
      "Your BMI is 23.148148148148145\n"
     ]
    }
   ],
   "source": [
    "#This program calculates BMI.\n",
    "\n",
    "height = float(input(\"Enter value in cm: \"))\n",
    "weight = float(input(\"Enter value in kg: \"))\n",
    "converted_height = (height*0.01)\n",
    "bmi = (weight/(converted_height*converted_height))\n",
    "print(\"Your BMI is\" ,bmi)\n"
   ]
  },
  {
   "cell_type": "code",
   "execution_count": 9,
   "metadata": {},
   "outputs": [
    {
     "name": "stdout",
     "output_type": "stream",
     "text": [
      "Enter a positive integer: 2\n",
      "Sum of positive integers is 3.0\n"
     ]
    }
   ],
   "source": [
    "#This program prints sum of first n positive integers.\n",
    "\n",
    "n = int(input(\"Enter a positive integer: \"))\n",
    "result = (n * (n + 1)) / 2\n",
    "print(\"Sum of positive integers is\" ,result)\n"
   ]
  },
  {
   "cell_type": "code",
   "execution_count": 10,
   "metadata": {},
   "outputs": [
    {
     "name": "stdout",
     "output_type": "stream",
     "text": [
      "Enter a number: 33\n",
      "The sum of digits of number is 6\n"
     ]
    }
   ],
   "source": [
    "#This program calculates the sum of the digits in an integer.\n",
    "\n",
    "num = int(input(\"Enter a number: \"))\n",
    "sum = 0\n",
    "while num > 0:\n",
    "    d = num%10\n",
    "    num = num//10\n",
    "    sum += d\n",
    "print(\"The sum of digits of number is\",sum)"
   ]
  },
  {
   "cell_type": "code",
   "execution_count": 2,
   "metadata": {},
   "outputs": [
    {
     "name": "stdout",
     "output_type": "stream",
     "text": [
      "Enter decimal value: 32\n",
      "The decimal value of 32 is:\n",
      "0b100000 in binary.\n"
     ]
    }
   ],
   "source": [
    "#This program converts decimal integer into binary.\n",
    "\n",
    "dec = int(input(\"Enter decimal value: \"))\n",
    "print(\"The decimal value of\",dec,\"is:\")\n",
    "print(bin(dec),\"in binary.\")"
   ]
  },
  {
   "cell_type": "code",
   "execution_count": 7,
   "metadata": {},
   "outputs": [
    {
     "name": "stdout",
     "output_type": "stream",
     "text": [
      "Enter binary value: 100000\n",
      "100000 in Decimal = 32\n"
     ]
    }
   ],
   "source": [
    "#This program converts binary number to Decimal number.\n",
    "\n",
    "\n",
    "binary = input(\"Enter binary value: \")\n",
    "if binary == 'x':\n",
    "    exit()\n",
    "else:\n",
    "    decimal = int(binary, 2)\n",
    "    print(binary,\"in Decimal =\",decimal)"
   ]
  },
  {
   "cell_type": "code",
   "execution_count": 1,
   "metadata": {},
   "outputs": [
    {
     "name": "stdout",
     "output_type": "stream",
     "text": [
      "Enter Your Sentence: areeb\n",
      "Total Number of Vowels in this String =  3\n",
      "Total Number of Consonants in this String =  2\n"
     ]
    }
   ],
   "source": [
    "#This program counts the number of vowels and consonants in a sentence.\n",
    "\n",
    "string = input(\"Enter Your Sentence: \")\n",
    "vowels = 0\n",
    "consonants = 0\n",
    "\n",
    "for i in string:\n",
    "    if(i == 'a' or i == 'e' or i == 'i' or i == 'o' or i == 'u'\n",
    "       or i == 'A' or i == 'E' or i == 'I' or i == 'O' or i == 'U'):\n",
    "        vowels = vowels + 1\n",
    "    else:\n",
    "        consonants = consonants + 1\n",
    " \n",
    "print(\"Total Number of Vowels in this String = \", vowels)\n",
    "print(\"Total Number of Consonants in this String = \", consonants)\n"
   ]
  },
  {
   "cell_type": "code",
   "execution_count": 3,
   "metadata": {},
   "outputs": [
    {
     "name": "stdout",
     "output_type": "stream",
     "text": [
      "Enter text: hello\n",
      "Text hello is not a palindrome\n"
     ]
    }
   ],
   "source": [
    "#This program checks that whether given input is palindrome or not.\n",
    "\n",
    "string = input(\"Enter text: \")\n",
    "if(string==string[::-1]):\n",
    "      print(\"Text\" ,string,\"is a palindrome\")\n",
    "else:\n",
    "      print(\"Text\" ,string,\"is not a palindrome\")\n"
   ]
  },
  {
   "cell_type": "code",
   "execution_count": 5,
   "metadata": {},
   "outputs": [
    {
     "name": "stdout",
     "output_type": "stream",
     "text": [
      "Enter text of a string: areeb3.2\n",
      "The number of letters in areeb3.2 is 5\n",
      "The number of digits in areeb3.2 is 2\n"
     ]
    }
   ],
   "source": [
    "#This program accepts a string and calculates the number of digits and letters.\n",
    "\n",
    "t = input(\"Enter text of a string: \")\n",
    "d=l=0\n",
    "for c in t:\n",
    "    if c.isdigit():\n",
    "        d=d+1\n",
    "    elif c.isalpha():\n",
    "        l=l+1\n",
    "    else:\n",
    "        pass\n",
    "print(\"The number of letters in\" ,t,\"is\", l)\n",
    "print(\"The number of digits in\" ,t,\"is\",  d)\n"
   ]
  },
  {
   "cell_type": "code",
   "execution_count": 10,
   "metadata": {},
   "outputs": [
    {
     "name": "stdout",
     "output_type": "stream",
     "text": [
      "\n",
      "* \n",
      "* * \n",
      "* * * \n",
      "* * * * \n",
      "* * * * * \n",
      "* * * * \n",
      "* * * \n",
      "* * \n",
      "* \n"
     ]
    }
   ],
   "source": [
    "#This program constructs a following pattern.\n",
    "\n",
    "n = 5\n",
    "for i in range(n):\n",
    "    for j in range(i):\n",
    "        print ('* ', end=\"\")\n",
    "    print('')\n",
    "\n",
    "for i in range(n,0,-1):\n",
    "    for j in range(i):\n",
    "        print('* ', end=\"\")\n",
    "    print('')\n"
   ]
  },
  {
   "cell_type": "code",
   "execution_count": 6,
   "metadata": {},
   "outputs": [
    {
     "name": "stdout",
     "output_type": "stream",
     "text": [
      "\n",
      "1 \n",
      "1 2 \n",
      "1 2 3 \n",
      "1 2 3 4 \n",
      "1 2 3 4 5 \n",
      "1 2 3 4 \n",
      "1 2 3 \n",
      "1 2 \n",
      "1 \n"
     ]
    }
   ],
   "source": [
    "#This program constructs the following pattern.\n",
    "\n",
    "\n",
    "number=5\n",
    "random = 1\n",
    "for i in range(number):\n",
    "    for j in range(i):\n",
    "        print (j+1, end=\" \")\n",
    "    \n",
    "    print('')\n",
    "\n",
    "for i in range(5,0,-1):\n",
    "    for j in range(i):\n",
    "        print(j+1, end=\" \")\n",
    "    print('')\n",
    "\n",
    "\n",
    "\n",
    "\n",
    "\n",
    "\n",
    "    \n",
    "\n",
    "\n"
   ]
  },
  {
   "cell_type": "code",
   "execution_count": 13,
   "metadata": {},
   "outputs": [
    {
     "name": "stdout",
     "output_type": "stream",
     "text": [
      "\n",
      "1\n",
      "22\n",
      "333\n",
      "4444\n",
      "55555\n",
      "666666\n",
      "7777777\n",
      "88888888\n",
      "999999999\n"
     ]
    }
   ],
   "source": [
    "#This program prints the following pattern.\n",
    "\n",
    "for i in range(0,10):\n",
    "    print(str(i) * i)"
   ]
  },
  {
   "cell_type": "code",
   "execution_count": 19,
   "metadata": {},
   "outputs": [
    {
     "name": "stdout",
     "output_type": "stream",
     "text": [
      "Enter a date in (dd/mm/yy) format: 23/3/2000\n",
      "Enter a date in (dd/mm/yy) format: 25/3/2000\n",
      "There are  2 days between  2000-03-23  and  2000-03-25\n"
     ]
    }
   ],
   "source": [
    "#This program calculates number of days between two days.\n",
    "\n",
    "\n",
    "from datetime import datetime\n",
    "\n",
    "initial_date = input(\"Enter a date in (dd/mm/yy) format: \")\n",
    "final_date = input(\"Enter a date in (dd/mm/yy) format: \")\n",
    "\n",
    "resulting_initial_date = datetime.strptime(initial_date,\"%d/%m/%Y\").date()\n",
    "resulting_final_date = datetime.strptime(final_date,\"%d/%m/%Y\").date()\n",
    "\n",
    "dayz = resulting_final_date - resulting_initial_date\n",
    "\n",
    "print (\"There are \", dayz.days, \"days between \", resulting_initial_date,\" and \",resulting_final_date)\n"
   ]
  },
  {
   "cell_type": "code",
   "execution_count": null,
   "metadata": {},
   "outputs": [],
   "source": []
  }
 ],
 "metadata": {
  "kernelspec": {
   "display_name": "Python 3",
   "language": "python",
   "name": "python3"
  },
  "language_info": {
   "codemirror_mode": {
    "name": "ipython",
    "version": 3
   },
   "file_extension": ".py",
   "mimetype": "text/x-python",
   "name": "python",
   "nbconvert_exporter": "python",
   "pygments_lexer": "ipython3",
   "version": "3.7.3"
  }
 },
 "nbformat": 4,
 "nbformat_minor": 2
}
