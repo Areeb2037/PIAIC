{
 "cells": [
  {
   "cell_type": "code",
   "execution_count": 1,
   "metadata": {},
   "outputs": [
    {
     "name": "stdout",
     "output_type": "stream",
     "text": [
      "Enter name: Areeb Haider\n",
      "Enter father name: Sarfaraz Haider\n",
      "Enter your age: 19\n"
     ]
    }
   ],
   "source": [
    "# This program prints marksheet of a student\n",
    "# Basic information\n",
    "name = input(\"Enter name: \")\n",
    "father_name = input(\"Enter father name: \")\n",
    "age = input(\"Enter your age: \")\n",
    "total_subjects = 5\n"
   ]
  },
  {
   "cell_type": "code",
   "execution_count": 2,
   "metadata": {},
   "outputs": [
    {
     "name": "stdout",
     "output_type": "stream",
     "text": [
      "Board name: Board of secondary education karachi\n",
      "Year: 2019\n"
     ]
    }
   ],
   "source": [
    "# Further information\n",
    "board = input(\"Board name: \")\n",
    "Year = input(\"Year: \")\n"
   ]
  },
  {
   "cell_type": "code",
   "execution_count": 8,
   "metadata": {
    "scrolled": true
   },
   "outputs": [
    {
     "name": "stdout",
     "output_type": "stream",
     "text": [
      "Enter marks of mathematics: 88\n",
      "Enter marks of english: 78\n",
      "Enter marks of physics: 75\n",
      "Enter marks of urdu: 80\n",
      "Enter marks of islamiyat: 81\n"
     ]
    }
   ],
   "source": [
    "# Collecting information about subjects and marks\n",
    "Mathematics = int(input(\"Enter marks of mathematics: \"))\n",
    "English = int(input(\"Enter marks of english: \"))\n",
    "Physics = int(input(\"Enter marks of physics: \"))\n",
    "Urdu = int(input(\"Enter marks of urdu: \"))\n",
    "Islamiyat = int(input(\"Enter marks of islamiyat: \"))\n"
   ]
  },
  {
   "cell_type": "code",
   "execution_count": 30,
   "metadata": {},
   "outputs": [
    {
     "name": "stdout",
     "output_type": "stream",
     "text": [
      "80.4\n"
     ]
    }
   ],
   "source": [
    "# Calculation of percentage\n",
    "total_marks = Mathematics+English+Physics+Urdu+Islamiyat\n",
    "percentage = (obtained_marks/500)*100\n",
    "print(percentage)\n"
   ]
  },
  {
   "cell_type": "code",
   "execution_count": 10,
   "metadata": {},
   "outputs": [],
   "source": [
    "# Evaluating the grades\n",
    "if(percentage >= 90 and percentage <= 100):\n",
    "    grade = 'A+'\n",
    "elif(percentage >= 80 and percentage <= 90):\n",
    "    grade = 'A+'\n",
    "elif(percentage >= 70 and percentage <= 80):\n",
    "    grade = 'A'\n",
    "elif(percentage >= 60 and percentage <= 70):\n",
    "    grade = 'B'  \n",
    "elif(percentage >= 50 and percentage <= 60):\n",
    "    grade = 'C'\n",
    "elif(percentage >= 40 and percentage <= 50):\n",
    "    grade = 'D'\n",
    "else:\n",
    "    grade = 'failed'\n"
   ]
  },
  {
   "cell_type": "code",
   "execution_count": 31,
   "metadata": {},
   "outputs": [
    {
     "name": "stdout",
     "output_type": "stream",
     "text": [
      "\n",
      " \t\t\t\t\t(BOARD OF SECONDARY EDUCATION KARACHI)\n",
      "\n",
      " \t\t\t\t\t[SSC Marksheet]\n",
      "\n",
      "Student's Information:  \n",
      "Name: Areeb Haider\n",
      "Father Name: Sarfaraz Haider\n",
      "Age: 19\n",
      "\n",
      "Distribution of Marks:  \n",
      "Mathematics:  88 \n",
      "English: 78 \n",
      "Physics: 75 \n",
      "Urdu: 80 \n",
      "Islamiyat: 81\n",
      "\n",
      "Final Result:\n",
      "Obtained Marks:  402 \n",
      "Percentage: 80.4\n",
      "Grade: A+\n",
      "\n",
      " \t\t\t\t\t[Authorized Marksheet issued by the board]\n"
     ]
    }
   ],
   "source": [
    "# Generating Marksheet\n",
    "print(\"\\n \\t\\t\\t\\t\\t(BOARD OF SECONDARY EDUCATION KARACHI)\")\n",
    "\n",
    "print(\"\\n \\t\\t\\t\\t\\t[SSC Marksheet]\")\n",
    "print(\"\\nStudent's Information: \",\"\\nName: \" + name + \"\\nFather Name: \" + father_name + \"\\nAge: \" + str(age))\n",
    "print(\"\\nDistribution of Marks: \",\"\\nMathematics: \",Mathematics,\"\\nEnglish:\",English,\"\\nPhysics:\",Physics,\"\\nUrdu:\",Urdu,\"\\nIslamiyat:\",Islamiyat,)\n",
    "print(\"\\nFinal Result:\\nObtained Marks: \",total_marks, \"\\nPercentage: \" + str(percentage) + \"\\nGrade: \" + grade)\n",
    "print(\"\\n \\t\\t\\t\\t\\t[Authorized Marksheet issued by the board]\")\n",
    "\n",
    "\n"
   ]
  },
  {
   "cell_type": "code",
   "execution_count": null,
   "metadata": {},
   "outputs": [],
   "source": []
  },
  {
   "cell_type": "code",
   "execution_count": null,
   "metadata": {},
   "outputs": [],
   "source": []
  },
  {
   "cell_type": "code",
   "execution_count": null,
   "metadata": {},
   "outputs": [],
   "source": []
  }
 ],
 "metadata": {
  "kernelspec": {
   "display_name": "Python 3",
   "language": "python",
   "name": "python3"
  },
  "language_info": {
   "codemirror_mode": {
    "name": "ipython",
    "version": 3
   },
   "file_extension": ".py",
   "mimetype": "text/x-python",
   "name": "python",
   "nbconvert_exporter": "python",
   "pygments_lexer": "ipython3",
   "version": "3.7.3"
  }
 },
 "nbformat": 4,
 "nbformat_minor": 2
}
